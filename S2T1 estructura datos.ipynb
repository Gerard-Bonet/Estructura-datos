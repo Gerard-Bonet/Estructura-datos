{
 "cells": [
  {
   "cell_type": "markdown",
   "id": "608315da",
   "metadata": {},
   "source": [
    "#  Sprint 2.Ejercicio 1: Estructuras de datos. "
   ]
  },
  {
   "cell_type": "markdown",
   "id": "e2b4efe8",
   "metadata": {},
   "source": [
    "1. Crea una lista que incluya los **meses** del año, agrupadas por **trimestres**. \n",
    "\n"
   ]
  },
  {
   "cell_type": "code",
   "execution_count": 1,
   "id": "762b1f07",
   "metadata": {},
   "outputs": [
    {
     "name": "stdout",
     "output_type": "stream",
     "text": [
      "[[' Enero', 'Febrero', 'Marzo'], ['Abril', 'Mayo', 'Junio'], ['Julio', 'Agosto', 'Septiembre'], ['Octubre', 'Noviembre', 'Diciembre ']]\n"
     ]
    }
   ],
   "source": [
    "# para ello crearemos una lista a modo de matriz. \n",
    "\n",
    "meses = [[\" Enero\", \"Febrero\", \"Marzo\"], [\"Abril\", \"Mayo\", \"Junio\"], [ \"Julio\", \"Agosto\", \"Septiembre\"],\n",
    "             [\"Octubre\", \"Noviembre\", \"Diciembre \"] ]\n",
    "print ( meses)"
   ]
  },
  {
   "cell_type": "markdown",
   "id": "a15e2b85",
   "metadata": {},
   "source": [
    "2. Crea un código que te permita acceder a \n",
    "-  Al segundo mes del primer trimestre\n",
    "- A los meses del primer trimestre\n",
    "- Septiembre  y  octubre"
   ]
  },
  {
   "cell_type": "code",
   "execution_count": 2,
   "id": "9a0fc890",
   "metadata": {},
   "outputs": [
    {
     "name": "stdout",
     "output_type": "stream",
     "text": [
      "Febrero\n",
      "[' Enero', 'Febrero', 'Marzo']\n",
      "Septiembre y Octubre\n"
     ]
    }
   ],
   "source": [
    "# solventamos por orden \n",
    "\n",
    "print  (meses [0][1])\n",
    "print (meses [0])\n",
    "print  (meses [2][2], \"y\" ,(meses [3][0]))\n"
   ]
  },
  {
   "cell_type": "markdown",
   "id": "6da4fc64",
   "metadata": {},
   "source": [
    "3. Crea una lista desordenada y responde a lo siguiente \n",
    "\n",
    "- ¿Cuántos números hay?\n",
    "- Frecuencia del número 3\n",
    "- Frecuencias de 3 y 4\n",
    "- Número más grande \n",
    "- Los 3 números más pequeños\n",
    "- rango de la lista "
   ]
  },
  {
   "cell_type": "code",
   "execution_count": 3,
   "id": "51f375ba",
   "metadata": {},
   "outputs": [
    {
     "name": "stdout",
     "output_type": "stream",
     "text": [
      "[0, 19, 14, 5, 14, 3, 1, 11, 16, 7, 1, 16, 9, 16, 0, 2, 2, 12, 9, 13, 0, 19, 13, 10, 4, 6, 5, 2, 8, 6, 11, 2, 0, 10, 7, 12, 14, 13, 10, 8, 15, 8, 13, 8, 2, 0, 7, 9, 4, 12, 15, 13, 3, 1, 10, 13, 11, 3, 9, 15, 19, 7, 13, 11, 7, 17, 9, 17, 14, 2, 0, 1, 12, 0, 19, 3, 1, 6, 14, 18, 19, 5, 12, 2, 5, 8, 7, 18, 14, 6, 6, 17, 2, 11, 1, 13, 10, 17, 3, 7, 20, 6, 15, 0, 10, 18, 20, 12, 0, 16, 1, 19, 0, 13, 8, 18, 2, 9, 18, 15, 5, 20, 6, 19, 1, 17, 1, 12, 5, 20, 1, 5, 19, 10, 12, 5, 20, 0, 17, 9, 18, 1, 1, 8, 4, 9, 6, 19, 5, 1, 2, 10, 0, 20, 6, 17, 7, 8, 15, 9, 3, 11, 8, 18, 0, 1, 14, 9, 11, 5, 20, 1, 13, 1, 4, 10, 4, 11, 18, 19, 4, 12, 18, 14, 17, 20, 3, 13, 20, 8, 16, 20, 5, 4, 1, 16, 6, 2, 0, 0]\n"
     ]
    }
   ],
   "source": [
    "# para ello vamos a importar la biblioteca de \"aleatoriedad\" random\n",
    "# sea una lista vacía a la que llamaremos num de 200 números entre 0 y 20 \n",
    "import random as random\n",
    "num =  []\n",
    "for x in range (0,200):\n",
    "    n = random.randrange (0,21)\n",
    "    num. append(n)\n",
    "\n",
    "\n",
    "print ( num)"
   ]
  },
  {
   "cell_type": "code",
   "execution_count": 4,
   "id": "ddc05bc9",
   "metadata": {},
   "outputs": [
    {
     "name": "stdout",
     "output_type": "stream",
     "text": [
      "200\n"
     ]
    }
   ],
   "source": [
    "# ¿Cuántos números hay?\n",
    "print ( len ( num))"
   ]
  },
  {
   "cell_type": "code",
   "execution_count": 5,
   "id": "3097769e",
   "metadata": {},
   "outputs": [
    {
     "name": "stdout",
     "output_type": "stream",
     "text": [
      "7\n"
     ]
    }
   ],
   "source": [
    "# frecuencia del número 3\n",
    "print ( num.count(3))"
   ]
  },
  {
   "cell_type": "code",
   "execution_count": 6,
   "id": "c8285de8",
   "metadata": {},
   "outputs": [
    {
     "name": "stdout",
     "output_type": "stream",
     "text": [
      "14\n"
     ]
    }
   ],
   "source": [
    "# frecuencia del número 3 y 4\n",
    "print ( num.count(3)+num.count(4) )"
   ]
  },
  {
   "cell_type": "code",
   "execution_count": 7,
   "id": "a4b89432",
   "metadata": {},
   "outputs": [
    {
     "name": "stdout",
     "output_type": "stream",
     "text": [
      "20\n"
     ]
    }
   ],
   "source": [
    "# Número más grande\n",
    "\n",
    "print (max(num))"
   ]
  },
  {
   "cell_type": "code",
   "execution_count": 8,
   "id": "44be3069",
   "metadata": {},
   "outputs": [
    {
     "name": "stdout",
     "output_type": "stream",
     "text": [
      " los tres números más pequeños son el  0 , 1 y 2 ,\n"
     ]
    }
   ],
   "source": [
    "#Los 3 números más pequeños \n",
    "# para ello usaremos 3 variables auxiliares k1, k2, k3 que serán los 3 valores más pequeños. \n",
    "k1 = 20 \n",
    "k2 = 20 \n",
    "k3 = 20 \n",
    "# asignamos el valor 20 a cada una, ya que sabemos por el ejercicio anterior que el máximo es 20\n",
    "k1 = min( num)\n",
    "\n",
    "\n",
    "# para localizar el siguiente número más grande eliminamos los \"0 \" de la lista, para ello creamos la lista num2\n",
    "num2 =  []\n",
    "for x in num : \n",
    "    if x != 0 :\n",
    "        num2.append(x)\n",
    "k2 = min(num2)\n",
    "\n",
    "num3 =[]\n",
    "# repetimos proceso para el tercer número \n",
    "for y in num2 : \n",
    "    if y != k2 :\n",
    "        num3.append(y)\n",
    "        \n",
    "k3 = min(num3)\n",
    "\n",
    "print ( \" los tres números más pequeños son el \", k1, \",\", k2, \"y\", k3, \",\"  )"
   ]
  },
  {
   "cell_type": "markdown",
   "id": "165e78a3",
   "metadata": {},
   "source": [
    "\n",
    "4. Crea un diccionario de la siguiente forma y responde a las preguntas:\n",
    "\n",
    "compra = { \"Manzanas\" : {\"Qty\": 5, \"€\": 0.42}, \"Peras\" : {\"Qty\": 3, \"€\": 0.66} }\n",
    "\n",
    "- Añade alguna fruta más\n",
    "\n",
    "- ¿Cuánto han costado las peras en total?\n",
    "\n",
    "- ¿Cuántos frutos hemos comprado en total?\n",
    "\n",
    "- ¿Cuál es la fruta más cara?"
   ]
  },
  {
   "cell_type": "code",
   "execution_count": 9,
   "id": "377fed51",
   "metadata": {},
   "outputs": [
    {
     "name": "stdout",
     "output_type": "stream",
     "text": [
      "{'Manzanas': {'Qty': 5, '€': 0.42}, 'Peras': {'Qty': 3, '€': 0.66}, 'Plátanos': {'Qty': 7, '€': 0.24}, 'Naranjas': {'Qty': 11, '€': 0.17}}\n"
     ]
    }
   ],
   "source": [
    "# añadir algún elemento más\n",
    "compra = { \"Manzanas\" : {\"Qty\": 5, \"€\": 0.42}, \"Peras\" : {\"Qty\": 3, \"€\": 0.66} }\n",
    "\n",
    "\n",
    "compra.update( {\"Plátanos\" : {\"Qty\": 7, \"€\": 0.24}})\n",
    "compra  [\"Naranjas\" ] = {\"Qty\": 11, \"€\": 0.17}\n",
    "\n",
    "print ( compra )"
   ]
  },
  {
   "cell_type": "code",
   "execution_count": 10,
   "id": "844e70e9",
   "metadata": {},
   "outputs": [
    {
     "name": "stdout",
     "output_type": "stream",
     "text": [
      " el valor total de compra de peras es  1.98 €\n"
     ]
    }
   ],
   "source": [
    "# calcula el valor total de las peras. Para eso multiplicamos el valor de la peras por el número de estas. \n",
    "\n",
    "print ( \" el valor total de compra de peras es \",  compra [\"Peras\"][\"Qty\"]*compra [\"Peras\"][\"€\"], \"€\" )\n"
   ]
  },
  {
   "cell_type": "code",
   "execution_count": 11,
   "id": "97094067",
   "metadata": {},
   "outputs": [
    {
     "name": "stdout",
     "output_type": "stream",
     "text": [
      "26\n"
     ]
    }
   ],
   "source": [
    " # ¿Cuántos frutos hemos comprado en total?\n",
    " # en este caso el precio de las frutas no nos interesa. \n",
    "\n",
    "n= 0 # función auxiliar para contar la cantidad de fruta\n",
    "\n",
    "for x in compra.keys(): \n",
    "    \n",
    "    n +=  compra [x][\"Qty\"]\n",
    "print (n)"
   ]
  },
  {
   "cell_type": "code",
   "execution_count": 13,
   "id": "da40d4bf",
   "metadata": {},
   "outputs": [
    {
     "name": "stdout",
     "output_type": "stream",
     "text": [
      " la fruta mas cara de todas es :   Peras\n"
     ]
    }
   ],
   "source": [
    "# ¿Cuál es la fruta más cara?\n",
    "\n",
    "lista=[] # sea una lista auxiliar para registrar los valores de las frutas\n",
    "\n",
    "for y in compra.keys():\n",
    "    lista.append( compra [y][\"€\"])\n",
    "pmax = max ( lista) # sea el precio más alto \n",
    "\n",
    "for z in compra.keys():\n",
    "    if compra [z][\"€\"] == pmax:\n",
    "        print ( \" la fruta mas cara de todas es :  \", z)"
   ]
  },
  {
   "cell_type": "code",
   "execution_count": null,
   "id": "f0028f37",
   "metadata": {},
   "outputs": [],
   "source": []
  }
 ],
 "metadata": {
  "kernelspec": {
   "display_name": "Python 3 (ipykernel)",
   "language": "python",
   "name": "python3"
  },
  "language_info": {
   "codemirror_mode": {
    "name": "ipython",
    "version": 3
   },
   "file_extension": ".py",
   "mimetype": "text/x-python",
   "name": "python",
   "nbconvert_exporter": "python",
   "pygments_lexer": "ipython3",
   "version": "3.9.7"
  }
 },
 "nbformat": 4,
 "nbformat_minor": 5
}
